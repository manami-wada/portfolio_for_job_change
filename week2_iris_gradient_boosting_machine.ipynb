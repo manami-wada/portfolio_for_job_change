{
 "cells": [
  {
   "cell_type": "code",
   "execution_count": 1,
   "metadata": {},
   "outputs": [],
   "source": [
    "import h2o\n",
    "from h2o.estimators.gbm import H2OGradientBoostingEstimator"
   ]
  },
  {
   "cell_type": "markdown",
   "metadata": {},
   "source": [
    "Dependencies: Java version 8 "
   ]
  },
  {
   "cell_type": "code",
   "execution_count": 2,
   "metadata": {
    "scrolled": true
   },
   "outputs": [
    {
     "name": "stdout",
     "output_type": "stream",
     "text": [
      "Checking whether there is an H2O instance running at http://localhost:54321. connected.\n"
     ]
    },
    {
     "data": {
      "text/html": [
       "<div style=\"overflow:auto\"><table style=\"width:50%\"><tr><td>H2O cluster uptime:</td>\n",
       "<td>23 mins 38 secs</td></tr>\n",
       "<tr><td>H2O cluster timezone:</td>\n",
       "<td>Asia/Kolkata</td></tr>\n",
       "<tr><td>H2O data parsing timezone:</td>\n",
       "<td>UTC</td></tr>\n",
       "<tr><td>H2O cluster version:</td>\n",
       "<td>3.20.0.1</td></tr>\n",
       "<tr><td>H2O cluster version age:</td>\n",
       "<td>12 days </td></tr>\n",
       "<tr><td>H2O cluster name:</td>\n",
       "<td>H2O_from_python_raj_rwwksq</td></tr>\n",
       "<tr><td>H2O cluster total nodes:</td>\n",
       "<td>1</td></tr>\n",
       "<tr><td>H2O cluster free memory:</td>\n",
       "<td>3.539 Gb</td></tr>\n",
       "<tr><td>H2O cluster total cores:</td>\n",
       "<td>8</td></tr>\n",
       "<tr><td>H2O cluster allowed cores:</td>\n",
       "<td>8</td></tr>\n",
       "<tr><td>H2O cluster status:</td>\n",
       "<td>locked, healthy</td></tr>\n",
       "<tr><td>H2O connection url:</td>\n",
       "<td>http://localhost:54321</td></tr>\n",
       "<tr><td>H2O connection proxy:</td>\n",
       "<td>None</td></tr>\n",
       "<tr><td>H2O internal security:</td>\n",
       "<td>False</td></tr>\n",
       "<tr><td>H2O API Extensions:</td>\n",
       "<td>XGBoost, Algos, AutoML, Core V3, Core V4</td></tr>\n",
       "<tr><td>Python version:</td>\n",
       "<td>3.6.5 final</td></tr></table></div>"
      ],
      "text/plain": [
       "--------------------------  ----------------------------------------\n",
       "H2O cluster uptime:         23 mins 38 secs\n",
       "H2O cluster timezone:       Asia/Kolkata\n",
       "H2O data parsing timezone:  UTC\n",
       "H2O cluster version:        3.20.0.1\n",
       "H2O cluster version age:    12 days\n",
       "H2O cluster name:           H2O_from_python_raj_rwwksq\n",
       "H2O cluster total nodes:    1\n",
       "H2O cluster free memory:    3.539 Gb\n",
       "H2O cluster total cores:    8\n",
       "H2O cluster allowed cores:  8\n",
       "H2O cluster status:         locked, healthy\n",
       "H2O connection url:         http://localhost:54321\n",
       "H2O connection proxy:\n",
       "H2O internal security:      False\n",
       "H2O API Extensions:         XGBoost, Algos, AutoML, Core V3, Core V4\n",
       "Python version:             3.6.5 final\n",
       "--------------------------  ----------------------------------------"
      ]
     },
     "metadata": {},
     "output_type": "display_data"
    }
   ],
   "source": [
    "h2o.init()"
   ]
  },
  {
   "cell_type": "code",
   "execution_count": 3,
   "metadata": {},
   "outputs": [
    {
     "name": "stdout",
     "output_type": "stream",
     "text": [
      "Parse progress: |█████████████████████████████████████████████████████████| 100%\n"
     ]
    }
   ],
   "source": [
    "url = \"http://h2o-public-test-data.s3.amazonaws.com/smalldata/iris/iris_wheader.csv\"\n",
    "iris=h2o.import_file(url)"
   ]
  },
  {
   "cell_type": "markdown",
   "metadata": {},
   "source": [
    "150 rows in iris df - say 120 - for training model and 30 for test"
   ]
  },
  {
   "cell_type": "code",
   "execution_count": 4,
   "metadata": {},
   "outputs": [
    {
     "data": {
      "text/plain": [
       "150"
      ]
     },
     "execution_count": 4,
     "metadata": {},
     "output_type": "execute_result"
    }
   ],
   "source": [
    "iris.nrows"
   ]
  },
  {
   "cell_type": "code",
   "execution_count": 5,
   "metadata": {},
   "outputs": [],
   "source": [
    "train,test= iris.split_frame( [0.8] )"
   ]
  },
  {
   "cell_type": "code",
   "execution_count": 6,
   "metadata": {},
   "outputs": [
    {
     "data": {
      "text/plain": [
       "118"
      ]
     },
     "execution_count": 6,
     "metadata": {},
     "output_type": "execute_result"
    }
   ],
   "source": [
    "train.nrows"
   ]
  },
  {
   "cell_type": "code",
   "execution_count": 7,
   "metadata": {},
   "outputs": [
    {
     "data": {
      "text/plain": [
       "32"
      ]
     },
     "execution_count": 7,
     "metadata": {},
     "output_type": "execute_result"
    }
   ],
   "source": [
    "test.nrows"
   ]
  },
  {
   "cell_type": "markdown",
   "metadata": {},
   "source": [
    "Go to h2o flow to inspect in getFrames to see datasets generated with respective sizes"
   ]
  },
  {
   "cell_type": "code",
   "execution_count": 8,
   "metadata": {},
   "outputs": [],
   "source": [
    "from h2o.estimators.gbm import H2OGradientBoostingEstimator"
   ]
  },
  {
   "cell_type": "code",
   "execution_count": 11,
   "metadata": {},
   "outputs": [
    {
     "name": "stdout",
     "output_type": "stream",
     "text": [
      "gbm Model Build progress: |███████████████████████████████████████████████| 100%\n"
     ]
    }
   ],
   "source": [
    "mGBM = H2OGradientBoostingEstimator()\n",
    "mGBM.train( ['sepal_len','sepal_wid','petal_len','petal_wid'] , \"class\", train)"
   ]
  },
  {
   "cell_type": "code",
   "execution_count": 12,
   "metadata": {},
   "outputs": [
    {
     "name": "stdout",
     "output_type": "stream",
     "text": [
      "Model Details\n",
      "=============\n",
      "H2OGradientBoostingEstimator :  Gradient Boosting Machine\n",
      "Model Key:  GBM_model_python_1529402118725_3\n",
      "\n",
      "\n",
      "ModelMetricsMultinomial: gbm\n",
      "** Reported on train data. **\n",
      "\n",
      "MSE: 0.0025171414137193236\n",
      "RMSE: 0.050171121312158486\n",
      "LogLoss: 0.019400253217415467\n",
      "Mean Per-Class Error: 0.0\n",
      "Confusion Matrix: Row labels: Actual class; Column labels: Predicted class\n",
      "\n"
     ]
    },
    {
     "data": {
      "text/html": [
       "<div style=\"overflow:auto\"><table style=\"width:50%\"><tr><td><b>Iris-setosa</b></td>\n",
       "<td><b>Iris-versicolor</b></td>\n",
       "<td><b>Iris-virginica</b></td>\n",
       "<td><b>Error</b></td>\n",
       "<td><b>Rate</b></td></tr>\n",
       "<tr><td>41.0</td>\n",
       "<td>0.0</td>\n",
       "<td>0.0</td>\n",
       "<td>0.0</td>\n",
       "<td>0 / 41</td></tr>\n",
       "<tr><td>0.0</td>\n",
       "<td>36.0</td>\n",
       "<td>0.0</td>\n",
       "<td>0.0</td>\n",
       "<td>0 / 36</td></tr>\n",
       "<tr><td>0.0</td>\n",
       "<td>0.0</td>\n",
       "<td>41.0</td>\n",
       "<td>0.0</td>\n",
       "<td>0 / 41</td></tr>\n",
       "<tr><td>41.0</td>\n",
       "<td>36.0</td>\n",
       "<td>41.0</td>\n",
       "<td>0.0</td>\n",
       "<td>0 / 118</td></tr></table></div>"
      ],
      "text/plain": [
       "Iris-setosa    Iris-versicolor    Iris-virginica    Error    Rate\n",
       "-------------  -----------------  ----------------  -------  -------\n",
       "41             0                  0                 0        0 / 41\n",
       "0              36                 0                 0        0 / 36\n",
       "0              0                  41                0        0 / 41\n",
       "41             36                 41                0        0 / 118"
      ]
     },
     "metadata": {},
     "output_type": "display_data"
    },
    {
     "name": "stdout",
     "output_type": "stream",
     "text": [
      "Top-3 Hit Ratios: \n"
     ]
    },
    {
     "data": {
      "text/html": [
       "<div style=\"overflow:auto\"><table style=\"width:50%\"><tr><td><b>k</b></td>\n",
       "<td><b>hit_ratio</b></td></tr>\n",
       "<tr><td>1</td>\n",
       "<td>1.0</td></tr>\n",
       "<tr><td>2</td>\n",
       "<td>1.0</td></tr>\n",
       "<tr><td>3</td>\n",
       "<td>1.0</td></tr></table></div>"
      ],
      "text/plain": [
       "k    hit_ratio\n",
       "---  -----------\n",
       "1    1\n",
       "2    1\n",
       "3    1"
      ]
     },
     "metadata": {},
     "output_type": "display_data"
    },
    {
     "name": "stdout",
     "output_type": "stream",
     "text": [
      "Scoring History: \n"
     ]
    },
    {
     "data": {
      "text/html": [
       "<div style=\"overflow:auto\"><table style=\"width:50%\"><tr><td><b></b></td>\n",
       "<td><b>timestamp</b></td>\n",
       "<td><b>duration</b></td>\n",
       "<td><b>number_of_trees</b></td>\n",
       "<td><b>training_rmse</b></td>\n",
       "<td><b>training_logloss</b></td>\n",
       "<td><b>training_classification_error</b></td></tr>\n",
       "<tr><td></td>\n",
       "<td>2018-06-19 15:49:50</td>\n",
       "<td> 0.003 sec</td>\n",
       "<td>0.0</td>\n",
       "<td>0.6666667</td>\n",
       "<td>1.0986123</td>\n",
       "<td>0.6271186</td></tr>\n",
       "<tr><td></td>\n",
       "<td>2018-06-19 15:49:50</td>\n",
       "<td> 0.033 sec</td>\n",
       "<td>1.0</td>\n",
       "<td>0.6054086</td>\n",
       "<td>0.9302770</td>\n",
       "<td>0.0508475</td></tr>\n",
       "<tr><td></td>\n",
       "<td>2018-06-19 15:49:50</td>\n",
       "<td> 0.041 sec</td>\n",
       "<td>2.0</td>\n",
       "<td>0.5490169</td>\n",
       "<td>0.7969901</td>\n",
       "<td>0.0338983</td></tr>\n",
       "<tr><td></td>\n",
       "<td>2018-06-19 15:49:50</td>\n",
       "<td> 0.051 sec</td>\n",
       "<td>3.0</td>\n",
       "<td>0.4982139</td>\n",
       "<td>0.6902578</td>\n",
       "<td>0.0423729</td></tr>\n",
       "<tr><td></td>\n",
       "<td>2018-06-19 15:49:50</td>\n",
       "<td> 0.057 sec</td>\n",
       "<td>4.0</td>\n",
       "<td>0.4521669</td>\n",
       "<td>0.6017943</td>\n",
       "<td>0.0338983</td></tr>\n",
       "<tr><td>---</td>\n",
       "<td>---</td>\n",
       "<td>---</td>\n",
       "<td>---</td>\n",
       "<td>---</td>\n",
       "<td>---</td>\n",
       "<td>---</td></tr>\n",
       "<tr><td></td>\n",
       "<td>2018-06-19 15:49:51</td>\n",
       "<td> 0.251 sec</td>\n",
       "<td>46.0</td>\n",
       "<td>0.0570817</td>\n",
       "<td>0.0233239</td>\n",
       "<td>0.0</td></tr>\n",
       "<tr><td></td>\n",
       "<td>2018-06-19 15:49:51</td>\n",
       "<td> 0.255 sec</td>\n",
       "<td>47.0</td>\n",
       "<td>0.0557531</td>\n",
       "<td>0.0224604</td>\n",
       "<td>0.0</td></tr>\n",
       "<tr><td></td>\n",
       "<td>2018-06-19 15:49:51</td>\n",
       "<td> 0.259 sec</td>\n",
       "<td>48.0</td>\n",
       "<td>0.0525175</td>\n",
       "<td>0.0210266</td>\n",
       "<td>0.0</td></tr>\n",
       "<tr><td></td>\n",
       "<td>2018-06-19 15:49:51</td>\n",
       "<td> 0.263 sec</td>\n",
       "<td>49.0</td>\n",
       "<td>0.0513468</td>\n",
       "<td>0.0202814</td>\n",
       "<td>0.0</td></tr>\n",
       "<tr><td></td>\n",
       "<td>2018-06-19 15:49:51</td>\n",
       "<td> 0.266 sec</td>\n",
       "<td>50.0</td>\n",
       "<td>0.0501711</td>\n",
       "<td>0.0194003</td>\n",
       "<td>0.0</td></tr></table></div>"
      ],
      "text/plain": [
       "     timestamp            duration    number_of_trees    training_rmse         training_logloss      training_classification_error\n",
       "---  -------------------  ----------  -----------------  --------------------  --------------------  -------------------------------\n",
       "     2018-06-19 15:49:50  0.003 sec   0.0                0.6666666666666659    1.0986122886681082    0.6271186440677966\n",
       "     2018-06-19 15:49:50  0.033 sec   1.0                0.6054086123901807    0.9302769701826789    0.05084745762711865\n",
       "     2018-06-19 15:49:50  0.041 sec   2.0                0.5490168895894921    0.7969901030863804    0.03389830508474576\n",
       "     2018-06-19 15:49:50  0.051 sec   3.0                0.49821390858182135   0.6902577838931431    0.0423728813559322\n",
       "     2018-06-19 15:49:50  0.057 sec   4.0                0.45216687075256295   0.6017943045383649    0.03389830508474576\n",
       "---  ---                  ---         ---                ---                   ---                   ---\n",
       "     2018-06-19 15:49:51  0.251 sec   46.0               0.057081659321810904  0.023323891113936006  0.0\n",
       "     2018-06-19 15:49:51  0.255 sec   47.0               0.05575312344483401   0.022460378450108513  0.0\n",
       "     2018-06-19 15:49:51  0.259 sec   48.0               0.052517542843237     0.021026594300254182  0.0\n",
       "     2018-06-19 15:49:51  0.263 sec   49.0               0.05134682557025063   0.020281429346683     0.0\n",
       "     2018-06-19 15:49:51  0.266 sec   50.0               0.050171121312158486  0.019400253217415467  0.0"
      ]
     },
     "metadata": {},
     "output_type": "display_data"
    },
    {
     "name": "stdout",
     "output_type": "stream",
     "text": [
      "\n",
      "See the whole table with table.as_data_frame()\n",
      "Variable Importances: \n"
     ]
    },
    {
     "data": {
      "text/html": [
       "<div style=\"overflow:auto\"><table style=\"width:50%\"><tr><td><b>variable</b></td>\n",
       "<td><b>relative_importance</b></td>\n",
       "<td><b>scaled_importance</b></td>\n",
       "<td><b>percentage</b></td></tr>\n",
       "<tr><td>petal_len</td>\n",
       "<td>205.6422577</td>\n",
       "<td>1.0</td>\n",
       "<td>0.5715347</td></tr>\n",
       "<tr><td>petal_wid</td>\n",
       "<td>146.6345673</td>\n",
       "<td>0.7130566</td>\n",
       "<td>0.4075366</td></tr>\n",
       "<tr><td>sepal_len</td>\n",
       "<td>4.1393867</td>\n",
       "<td>0.0201291</td>\n",
       "<td>0.0115045</td></tr>\n",
       "<tr><td>sepal_wid</td>\n",
       "<td>3.3909035</td>\n",
       "<td>0.0164893</td>\n",
       "<td>0.0094242</td></tr></table></div>"
      ],
      "text/plain": [
       "variable    relative_importance    scaled_importance    percentage\n",
       "----------  ---------------------  -------------------  ------------\n",
       "petal_len   205.642                1                    0.571535\n",
       "petal_wid   146.635                0.713057             0.407537\n",
       "sepal_len   4.13939                0.0201291            0.0115045\n",
       "sepal_wid   3.3909                 0.0164893            0.00942423"
      ]
     },
     "metadata": {},
     "output_type": "display_data"
    },
    {
     "data": {
      "text/plain": []
     },
     "execution_count": 12,
     "metadata": {},
     "output_type": "execute_result"
    }
   ],
   "source": [
    "mGBM"
   ]
  },
  {
   "cell_type": "markdown",
   "metadata": {},
   "source": [
    "Scoring history shows how many trees it used which is 50 in 0.174 sec, 0 errrors in training data which is 100% accuracy "
   ]
  },
  {
   "cell_type": "markdown",
   "metadata": {},
   "source": [
    "model performance: 100 percent hit ratio data which is seen"
   ]
  },
  {
   "cell_type": "code",
   "execution_count": 13,
   "metadata": {},
   "outputs": [
    {
     "name": "stdout",
     "output_type": "stream",
     "text": [
      "gbm prediction progress: |████████████████████████████████████████████████| 100%\n"
     ]
    }
   ],
   "source": [
    "p = mGBM.predict(test)"
   ]
  },
  {
   "cell_type": "markdown",
   "metadata": {},
   "source": [
    "Confidence in prediction"
   ]
  },
  {
   "cell_type": "code",
   "execution_count": 14,
   "metadata": {},
   "outputs": [
    {
     "data": {
      "text/html": [
       "<table>\n",
       "<thead>\n",
       "<tr><th>predict        </th><th style=\"text-align: right;\">  Iris-setosa</th><th style=\"text-align: right;\">  Iris-versicolor</th><th style=\"text-align: right;\">  Iris-virginica</th></tr>\n",
       "</thead>\n",
       "<tbody>\n",
       "<tr><td>Iris-setosa    </td><td style=\"text-align: right;\">    0.998972 </td><td style=\"text-align: right;\">      0.00052372 </td><td style=\"text-align: right;\">     0.000503838</td></tr>\n",
       "<tr><td>Iris-setosa    </td><td style=\"text-align: right;\">    0.99877  </td><td style=\"text-align: right;\">      0.000727429</td><td style=\"text-align: right;\">     0.000502765</td></tr>\n",
       "<tr><td>Iris-setosa    </td><td style=\"text-align: right;\">    0.9971   </td><td style=\"text-align: right;\">      0.00224296 </td><td style=\"text-align: right;\">     0.00065742 </td></tr>\n",
       "<tr><td>Iris-setosa    </td><td style=\"text-align: right;\">    0.998739 </td><td style=\"text-align: right;\">      0.000496235</td><td style=\"text-align: right;\">     0.000764871</td></tr>\n",
       "<tr><td>Iris-setosa    </td><td style=\"text-align: right;\">    0.998972 </td><td style=\"text-align: right;\">      0.000523721</td><td style=\"text-align: right;\">     0.000503894</td></tr>\n",
       "<tr><td>Iris-setosa    </td><td style=\"text-align: right;\">    0.998799 </td><td style=\"text-align: right;\">      0.000435547</td><td style=\"text-align: right;\">     0.00076542 </td></tr>\n",
       "<tr><td>Iris-setosa    </td><td style=\"text-align: right;\">    0.998773 </td><td style=\"text-align: right;\">      0.000419197</td><td style=\"text-align: right;\">     0.000807368</td></tr>\n",
       "<tr><td>Iris-setosa    </td><td style=\"text-align: right;\">    0.998811 </td><td style=\"text-align: right;\">      0.000380482</td><td style=\"text-align: right;\">     0.000808857</td></tr>\n",
       "<tr><td>Iris-setosa    </td><td style=\"text-align: right;\">    0.998717 </td><td style=\"text-align: right;\">      0.000780141</td><td style=\"text-align: right;\">     0.000502701</td></tr>\n",
       "<tr><td>Iris-versicolor</td><td style=\"text-align: right;\">    0.0011825</td><td style=\"text-align: right;\">      0.99458    </td><td style=\"text-align: right;\">     0.00423706 </td></tr>\n",
       "</tbody>\n",
       "</table>"
      ]
     },
     "metadata": {},
     "output_type": "display_data"
    },
    {
     "data": {
      "text/plain": []
     },
     "execution_count": 14,
     "metadata": {},
     "output_type": "execute_result"
    }
   ],
   "source": [
    "p"
   ]
  },
  {
   "cell_type": "code",
   "execution_count": 15,
   "metadata": {
    "scrolled": true
   },
   "outputs": [
    {
     "name": "stdout",
     "output_type": "stream",
     "text": [
      "\n",
      "ModelMetricsMultinomial: gbm\n",
      "** Reported on test data. **\n",
      "\n",
      "MSE: 0.006073601918171992\n",
      "RMSE: 0.07793331712542455\n",
      "LogLoss: 0.03482560081465091\n",
      "Mean Per-Class Error: 0.0\n",
      "Confusion Matrix: Row labels: Actual class; Column labels: Predicted class\n",
      "\n"
     ]
    },
    {
     "data": {
      "text/html": [
       "<div style=\"overflow:auto\"><table style=\"width:50%\"><tr><td><b>Iris-setosa</b></td>\n",
       "<td><b>Iris-versicolor</b></td>\n",
       "<td><b>Iris-virginica</b></td>\n",
       "<td><b>Error</b></td>\n",
       "<td><b>Rate</b></td></tr>\n",
       "<tr><td>9.0</td>\n",
       "<td>0.0</td>\n",
       "<td>0.0</td>\n",
       "<td>0.0</td>\n",
       "<td>0 / 9</td></tr>\n",
       "<tr><td>0.0</td>\n",
       "<td>14.0</td>\n",
       "<td>0.0</td>\n",
       "<td>0.0</td>\n",
       "<td>0 / 14</td></tr>\n",
       "<tr><td>0.0</td>\n",
       "<td>0.0</td>\n",
       "<td>9.0</td>\n",
       "<td>0.0</td>\n",
       "<td>0 / 9</td></tr>\n",
       "<tr><td>9.0</td>\n",
       "<td>14.0</td>\n",
       "<td>9.0</td>\n",
       "<td>0.0</td>\n",
       "<td>0 / 32</td></tr></table></div>"
      ],
      "text/plain": [
       "Iris-setosa    Iris-versicolor    Iris-virginica    Error    Rate\n",
       "-------------  -----------------  ----------------  -------  ------\n",
       "9              0                  0                 0        0 / 9\n",
       "0              14                 0                 0        0 / 14\n",
       "0              0                  9                 0        0 / 9\n",
       "9              14                 9                 0        0 / 32"
      ]
     },
     "metadata": {},
     "output_type": "display_data"
    },
    {
     "name": "stdout",
     "output_type": "stream",
     "text": [
      "Top-3 Hit Ratios: \n"
     ]
    },
    {
     "data": {
      "text/html": [
       "<div style=\"overflow:auto\"><table style=\"width:50%\"><tr><td><b>k</b></td>\n",
       "<td><b>hit_ratio</b></td></tr>\n",
       "<tr><td>1</td>\n",
       "<td>1.0</td></tr>\n",
       "<tr><td>2</td>\n",
       "<td>1.0</td></tr>\n",
       "<tr><td>3</td>\n",
       "<td>1.0</td></tr></table></div>"
      ],
      "text/plain": [
       "k    hit_ratio\n",
       "---  -----------\n",
       "1    1\n",
       "2    1\n",
       "3    1"
      ]
     },
     "metadata": {},
     "output_type": "display_data"
    },
    {
     "data": {
      "text/plain": []
     },
     "execution_count": 15,
     "metadata": {},
     "output_type": "execute_result"
    }
   ],
   "source": [
    "mGBM.model_performance(test)"
   ]
  },
  {
   "cell_type": "markdown",
   "metadata": {},
   "source": [
    "model performance: 100 percent hit ratio data which is unseen .ie 0 mistakes"
   ]
  },
  {
   "cell_type": "code",
   "execution_count": 17,
   "metadata": {},
   "outputs": [],
   "source": [
    "#help(h2o.estimators.gbm.H2OGradientBoostingEstimator)"
   ]
  },
  {
   "cell_type": "code",
   "execution_count": 18,
   "metadata": {},
   "outputs": [],
   "source": [
    "h2o.cluster().shutdown()"
   ]
  }
 ],
 "metadata": {
  "kernelspec": {
   "display_name": "Python 3",
   "language": "python",
   "name": "python3"
  },
  "language_info": {
   "codemirror_mode": {
    "name": "ipython",
    "version": 3
   },
   "file_extension": ".py",
   "mimetype": "text/x-python",
   "name": "python",
   "nbconvert_exporter": "python",
   "pygments_lexer": "ipython3",
   "version": "3.7.6"
  }
 },
 "nbformat": 4,
 "nbformat_minor": 2
}
