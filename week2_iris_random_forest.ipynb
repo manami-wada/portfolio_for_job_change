{
 "cells": [
  {
   "cell_type": "code",
   "execution_count": 1,
   "metadata": {},
   "outputs": [],
   "source": [
    "import h2o"
   ]
  },
  {
   "cell_type": "markdown",
   "metadata": {},
   "source": [
    "Dependencies: Java version 8 "
   ]
  },
  {
   "cell_type": "code",
   "execution_count": 2,
   "metadata": {
    "scrolled": true
   },
   "outputs": [
    {
     "name": "stdout",
     "output_type": "stream",
     "text": [
      "Checking whether there is an H2O instance running at http://localhost:54321..... not found.\n",
      "Attempting to start a local H2O server...\n",
      "  Java Version: java version \"1.8.0_171\"; Java(TM) SE Runtime Environment (build 1.8.0_171-b11); Java HotSpot(TM) 64-Bit Server VM (build 25.171-b11, mixed mode)\n",
      "  Starting server from /Users/raj/anaconda3/lib/python3.6/site-packages/h2o/backend/bin/h2o.jar\n",
      "  Ice root: /var/folders/gl/wb7rqfgd3v708q5m0ydj3pkc0000gq/T/tmpe4jovjkb\n",
      "  JVM stdout: /var/folders/gl/wb7rqfgd3v708q5m0ydj3pkc0000gq/T/tmpe4jovjkb/h2o_raj_started_from_python.out\n",
      "  JVM stderr: /var/folders/gl/wb7rqfgd3v708q5m0ydj3pkc0000gq/T/tmpe4jovjkb/h2o_raj_started_from_python.err\n",
      "  Server is running at http://127.0.0.1:54321\n",
      "Connecting to H2O server at http://127.0.0.1:54321... successful.\n"
     ]
    },
    {
     "data": {
      "text/html": [
       "<div style=\"overflow:auto\"><table style=\"width:50%\"><tr><td>H2O cluster uptime:</td>\n",
       "<td>03 secs</td></tr>\n",
       "<tr><td>H2O cluster timezone:</td>\n",
       "<td>Asia/Kolkata</td></tr>\n",
       "<tr><td>H2O data parsing timezone:</td>\n",
       "<td>UTC</td></tr>\n",
       "<tr><td>H2O cluster version:</td>\n",
       "<td>3.20.0.1</td></tr>\n",
       "<tr><td>H2O cluster version age:</td>\n",
       "<td>12 days </td></tr>\n",
       "<tr><td>H2O cluster name:</td>\n",
       "<td>H2O_from_python_raj_rwwksq</td></tr>\n",
       "<tr><td>H2O cluster total nodes:</td>\n",
       "<td>1</td></tr>\n",
       "<tr><td>H2O cluster free memory:</td>\n",
       "<td>3.556 Gb</td></tr>\n",
       "<tr><td>H2O cluster total cores:</td>\n",
       "<td>8</td></tr>\n",
       "<tr><td>H2O cluster allowed cores:</td>\n",
       "<td>8</td></tr>\n",
       "<tr><td>H2O cluster status:</td>\n",
       "<td>accepting new members, healthy</td></tr>\n",
       "<tr><td>H2O connection url:</td>\n",
       "<td>http://127.0.0.1:54321</td></tr>\n",
       "<tr><td>H2O connection proxy:</td>\n",
       "<td>None</td></tr>\n",
       "<tr><td>H2O internal security:</td>\n",
       "<td>False</td></tr>\n",
       "<tr><td>H2O API Extensions:</td>\n",
       "<td>XGBoost, Algos, AutoML, Core V3, Core V4</td></tr>\n",
       "<tr><td>Python version:</td>\n",
       "<td>3.6.5 final</td></tr></table></div>"
      ],
      "text/plain": [
       "--------------------------  ----------------------------------------\n",
       "H2O cluster uptime:         03 secs\n",
       "H2O cluster timezone:       Asia/Kolkata\n",
       "H2O data parsing timezone:  UTC\n",
       "H2O cluster version:        3.20.0.1\n",
       "H2O cluster version age:    12 days\n",
       "H2O cluster name:           H2O_from_python_raj_rwwksq\n",
       "H2O cluster total nodes:    1\n",
       "H2O cluster free memory:    3.556 Gb\n",
       "H2O cluster total cores:    8\n",
       "H2O cluster allowed cores:  8\n",
       "H2O cluster status:         accepting new members, healthy\n",
       "H2O connection url:         http://127.0.0.1:54321\n",
       "H2O connection proxy:\n",
       "H2O internal security:      False\n",
       "H2O API Extensions:         XGBoost, Algos, AutoML, Core V3, Core V4\n",
       "Python version:             3.6.5 final\n",
       "--------------------------  ----------------------------------------"
      ]
     },
     "metadata": {},
     "output_type": "display_data"
    }
   ],
   "source": [
    "h2o.init()"
   ]
  },
  {
   "cell_type": "code",
   "execution_count": 3,
   "metadata": {},
   "outputs": [
    {
     "name": "stdout",
     "output_type": "stream",
     "text": [
      "Parse progress: |█████████████████████████████████████████████████████████| 100%\n"
     ]
    }
   ],
   "source": [
    "url = \"http://h2o-public-test-data.s3.amazonaws.com/smalldata/iris/iris_wheader.csv\"\n",
    "iris = h2o.import_file(url)"
   ]
  },
  {
   "cell_type": "markdown",
   "metadata": {},
   "source": [
    "150 rows in iris df - say 120 - for training model and 30 for test"
   ]
  },
  {
   "cell_type": "code",
   "execution_count": 4,
   "metadata": {},
   "outputs": [
    {
     "data": {
      "text/plain": [
       "150"
      ]
     },
     "execution_count": 4,
     "metadata": {},
     "output_type": "execute_result"
    }
   ],
   "source": [
    "iris.nrows"
   ]
  },
  {
   "cell_type": "code",
   "execution_count": 5,
   "metadata": {},
   "outputs": [],
   "source": [
    "train,test= iris.split_frame( [0.8] )"
   ]
  },
  {
   "cell_type": "code",
   "execution_count": 9,
   "metadata": {},
   "outputs": [
    {
     "data": {
      "text/plain": [
       "120"
      ]
     },
     "execution_count": 9,
     "metadata": {},
     "output_type": "execute_result"
    }
   ],
   "source": [
    "train.nrows"
   ]
  },
  {
   "cell_type": "code",
   "execution_count": 10,
   "metadata": {},
   "outputs": [
    {
     "data": {
      "text/plain": [
       "30"
      ]
     },
     "execution_count": 10,
     "metadata": {},
     "output_type": "execute_result"
    }
   ],
   "source": [
    "test.nrows"
   ]
  },
  {
   "cell_type": "markdown",
   "metadata": {},
   "source": [
    "Go to h2o flow to inspect in getFrames to see datasets generated with respective sizes"
   ]
  },
  {
   "cell_type": "code",
   "execution_count": 11,
   "metadata": {},
   "outputs": [],
   "source": [
    "from h2o.estimators.random_forest import H2ORandomForestEstimator"
   ]
  },
  {
   "cell_type": "code",
   "execution_count": 13,
   "metadata": {},
   "outputs": [
    {
     "name": "stdout",
     "output_type": "stream",
     "text": [
      "drf Model Build progress: |███████████████████████████████████████████████| 100%\n"
     ]
    }
   ],
   "source": [
    "mRF=H2ORandomForestEstimator()\n",
    "mRF.train( ['sepal_len','sepal_wid','petal_len','petal_wid'] , \"class\", train)"
   ]
  },
  {
   "cell_type": "code",
   "execution_count": 14,
   "metadata": {},
   "outputs": [
    {
     "name": "stdout",
     "output_type": "stream",
     "text": [
      "Model Details\n",
      "=============\n",
      "H2ORandomForestEstimator :  Distributed Random Forest\n",
      "Model Key:  DRF_model_python_1529402118725_2\n",
      "\n",
      "\n",
      "ModelMetricsMultinomial: drf\n",
      "** Reported on train data. **\n",
      "\n",
      "MSE: 0.04007896637134224\n",
      "RMSE: 0.20019731859178894\n",
      "LogLoss: 0.12613033667977022\n",
      "Mean Per-Class Error: 0.05012531328320802\n",
      "Confusion Matrix: Row labels: Actual class; Column labels: Predicted class\n",
      "\n"
     ]
    },
    {
     "data": {
      "text/html": [
       "<div style=\"overflow:auto\"><table style=\"width:50%\"><tr><td><b>Iris-setosa</b></td>\n",
       "<td><b>Iris-versicolor</b></td>\n",
       "<td><b>Iris-virginica</b></td>\n",
       "<td><b>Error</b></td>\n",
       "<td><b>Rate</b></td></tr>\n",
       "<tr><td>40.0</td>\n",
       "<td>0.0</td>\n",
       "<td>0.0</td>\n",
       "<td>0.0</td>\n",
       "<td>0 / 40</td></tr>\n",
       "<tr><td>0.0</td>\n",
       "<td>35.0</td>\n",
       "<td>3.0</td>\n",
       "<td>0.0789474</td>\n",
       "<td>3 / 38</td></tr>\n",
       "<tr><td>0.0</td>\n",
       "<td>3.0</td>\n",
       "<td>39.0</td>\n",
       "<td>0.0714286</td>\n",
       "<td>3 / 42</td></tr>\n",
       "<tr><td>40.0</td>\n",
       "<td>38.0</td>\n",
       "<td>42.0</td>\n",
       "<td>0.05</td>\n",
       "<td>6 / 120</td></tr></table></div>"
      ],
      "text/plain": [
       "Iris-setosa    Iris-versicolor    Iris-virginica    Error      Rate\n",
       "-------------  -----------------  ----------------  ---------  -------\n",
       "40             0                  0                 0          0 / 40\n",
       "0              35                 3                 0.0789474  3 / 38\n",
       "0              3                  39                0.0714286  3 / 42\n",
       "40             38                 42                0.05       6 / 120"
      ]
     },
     "metadata": {},
     "output_type": "display_data"
    },
    {
     "name": "stdout",
     "output_type": "stream",
     "text": [
      "Top-3 Hit Ratios: \n"
     ]
    },
    {
     "data": {
      "text/html": [
       "<div style=\"overflow:auto\"><table style=\"width:50%\"><tr><td><b>k</b></td>\n",
       "<td><b>hit_ratio</b></td></tr>\n",
       "<tr><td>1</td>\n",
       "<td>0.95</td></tr>\n",
       "<tr><td>2</td>\n",
       "<td>1.0</td></tr>\n",
       "<tr><td>3</td>\n",
       "<td>1.0</td></tr></table></div>"
      ],
      "text/plain": [
       "k    hit_ratio\n",
       "---  -----------\n",
       "1    0.95\n",
       "2    1\n",
       "3    1"
      ]
     },
     "metadata": {},
     "output_type": "display_data"
    },
    {
     "name": "stdout",
     "output_type": "stream",
     "text": [
      "Scoring History: \n"
     ]
    },
    {
     "data": {
      "text/html": [
       "<div style=\"overflow:auto\"><table style=\"width:50%\"><tr><td><b></b></td>\n",
       "<td><b>timestamp</b></td>\n",
       "<td><b>duration</b></td>\n",
       "<td><b>number_of_trees</b></td>\n",
       "<td><b>training_rmse</b></td>\n",
       "<td><b>training_logloss</b></td>\n",
       "<td><b>training_classification_error</b></td></tr>\n",
       "<tr><td></td>\n",
       "<td>2018-06-19 15:26:26</td>\n",
       "<td> 0.001 sec</td>\n",
       "<td>0.0</td>\n",
       "<td>nan</td>\n",
       "<td>nan</td>\n",
       "<td>nan</td></tr>\n",
       "<tr><td></td>\n",
       "<td>2018-06-19 15:26:26</td>\n",
       "<td> 0.011 sec</td>\n",
       "<td>1.0</td>\n",
       "<td>0.3219605</td>\n",
       "<td>3.3865428</td>\n",
       "<td>0.0731707</td></tr>\n",
       "<tr><td></td>\n",
       "<td>2018-06-19 15:26:26</td>\n",
       "<td> 0.015 sec</td>\n",
       "<td>2.0</td>\n",
       "<td>0.2189639</td>\n",
       "<td>1.4383921</td>\n",
       "<td>0.0410959</td></tr>\n",
       "<tr><td></td>\n",
       "<td>2018-06-19 15:26:26</td>\n",
       "<td> 0.019 sec</td>\n",
       "<td>3.0</td>\n",
       "<td>0.2380599</td>\n",
       "<td>1.5678782</td>\n",
       "<td>0.0434783</td></tr>\n",
       "<tr><td></td>\n",
       "<td>2018-06-19 15:26:26</td>\n",
       "<td> 0.023 sec</td>\n",
       "<td>4.0</td>\n",
       "<td>0.2273407</td>\n",
       "<td>1.4035479</td>\n",
       "<td>0.0388350</td></tr>\n",
       "<tr><td>---</td>\n",
       "<td>---</td>\n",
       "<td>---</td>\n",
       "<td>---</td>\n",
       "<td>---</td>\n",
       "<td>---</td>\n",
       "<td>---</td></tr>\n",
       "<tr><td></td>\n",
       "<td>2018-06-19 15:26:26</td>\n",
       "<td> 0.163 sec</td>\n",
       "<td>46.0</td>\n",
       "<td>0.2056166</td>\n",
       "<td>0.1355913</td>\n",
       "<td>0.05</td></tr>\n",
       "<tr><td></td>\n",
       "<td>2018-06-19 15:26:26</td>\n",
       "<td> 0.166 sec</td>\n",
       "<td>47.0</td>\n",
       "<td>0.2041266</td>\n",
       "<td>0.1315106</td>\n",
       "<td>0.05</td></tr>\n",
       "<tr><td></td>\n",
       "<td>2018-06-19 15:26:26</td>\n",
       "<td> 0.169 sec</td>\n",
       "<td>48.0</td>\n",
       "<td>0.2037051</td>\n",
       "<td>0.1313966</td>\n",
       "<td>0.05</td></tr>\n",
       "<tr><td></td>\n",
       "<td>2018-06-19 15:26:26</td>\n",
       "<td> 0.171 sec</td>\n",
       "<td>49.0</td>\n",
       "<td>0.2023875</td>\n",
       "<td>0.1291525</td>\n",
       "<td>0.05</td></tr>\n",
       "<tr><td></td>\n",
       "<td>2018-06-19 15:26:26</td>\n",
       "<td> 0.174 sec</td>\n",
       "<td>50.0</td>\n",
       "<td>0.2001973</td>\n",
       "<td>0.1261303</td>\n",
       "<td>0.05</td></tr></table></div>"
      ],
      "text/plain": [
       "     timestamp            duration    number_of_trees    training_rmse        training_logloss     training_classification_error\n",
       "---  -------------------  ----------  -----------------  -------------------  -------------------  -------------------------------\n",
       "     2018-06-19 15:26:26  0.001 sec   0.0                nan                  nan                  nan\n",
       "     2018-06-19 15:26:26  0.011 sec   1.0                0.3219604581083923   3.386542750248846    0.07317073170731707\n",
       "     2018-06-19 15:26:26  0.015 sec   2.0                0.21896393648144905  1.4383921033678349   0.0410958904109589\n",
       "     2018-06-19 15:26:26  0.019 sec   3.0                0.238059896261394    1.567878224764822    0.043478260869565216\n",
       "     2018-06-19 15:26:26  0.023 sec   4.0                0.22734069882259175  1.4035479307545178   0.038834951456310676\n",
       "---  ---                  ---         ---                ---                  ---                  ---\n",
       "     2018-06-19 15:26:26  0.163 sec   46.0               0.20561656505695544  0.1355913122908223   0.05\n",
       "     2018-06-19 15:26:26  0.166 sec   47.0               0.20412658674759349  0.13151056983969894  0.05\n",
       "     2018-06-19 15:26:26  0.169 sec   48.0               0.20370506232157926  0.13139655429141986  0.05\n",
       "     2018-06-19 15:26:26  0.171 sec   49.0               0.2023875407689835   0.12915253602098628  0.05\n",
       "     2018-06-19 15:26:26  0.174 sec   50.0               0.20019731859178894  0.12613033667977022  0.05"
      ]
     },
     "metadata": {},
     "output_type": "display_data"
    },
    {
     "name": "stdout",
     "output_type": "stream",
     "text": [
      "\n",
      "See the whole table with table.as_data_frame()\n",
      "Variable Importances: \n"
     ]
    },
    {
     "data": {
      "text/html": [
       "<div style=\"overflow:auto\"><table style=\"width:50%\"><tr><td><b>variable</b></td>\n",
       "<td><b>relative_importance</b></td>\n",
       "<td><b>scaled_importance</b></td>\n",
       "<td><b>percentage</b></td></tr>\n",
       "<tr><td>petal_len</td>\n",
       "<td>1566.0776367</td>\n",
       "<td>1.0</td>\n",
       "<td>0.4511070</td></tr>\n",
       "<tr><td>petal_wid</td>\n",
       "<td>1535.4584961</td>\n",
       "<td>0.9804485</td>\n",
       "<td>0.4422871</td></tr>\n",
       "<tr><td>sepal_len</td>\n",
       "<td>284.7148743</td>\n",
       "<td>0.1818013</td>\n",
       "<td>0.0820118</td></tr>\n",
       "<tr><td>sepal_wid</td>\n",
       "<td>85.3816605</td>\n",
       "<td>0.0545194</td>\n",
       "<td>0.0245941</td></tr></table></div>"
      ],
      "text/plain": [
       "variable    relative_importance    scaled_importance    percentage\n",
       "----------  ---------------------  -------------------  ------------\n",
       "petal_len   1566.08                1                    0.451107\n",
       "petal_wid   1535.46                0.980449             0.442287\n",
       "sepal_len   284.715                0.181801             0.0820118\n",
       "sepal_wid   85.3817                0.0545194            0.0245941"
      ]
     },
     "metadata": {},
     "output_type": "display_data"
    },
    {
     "data": {
      "text/plain": []
     },
     "execution_count": 14,
     "metadata": {},
     "output_type": "execute_result"
    }
   ],
   "source": [
    "mRF"
   ]
  },
  {
   "cell_type": "markdown",
   "metadata": {},
   "source": [
    "Scoring history shows how many trees it used which is 50 in 0.174 sec, 6 errrors in training data which is 95% accuracy "
   ]
  },
  {
   "cell_type": "markdown",
   "metadata": {},
   "source": [
    "model performance: 94 percent hit ratio data which is seen"
   ]
  },
  {
   "cell_type": "code",
   "execution_count": 19,
   "metadata": {},
   "outputs": [
    {
     "name": "stdout",
     "output_type": "stream",
     "text": [
      "drf prediction progress: |████████████████████████████████████████████████| 100%\n"
     ]
    }
   ],
   "source": [
    "p=mRF.predict(test)"
   ]
  },
  {
   "cell_type": "markdown",
   "metadata": {},
   "source": [
    "Confidence in prediction"
   ]
  },
  {
   "cell_type": "code",
   "execution_count": 20,
   "metadata": {},
   "outputs": [
    {
     "data": {
      "text/html": [
       "<table>\n",
       "<thead>\n",
       "<tr><th>predict    </th><th style=\"text-align: right;\">  Iris-setosa</th><th style=\"text-align: right;\">  Iris-versicolor</th><th style=\"text-align: right;\">  Iris-virginica</th></tr>\n",
       "</thead>\n",
       "<tbody>\n",
       "<tr><td>Iris-setosa</td><td style=\"text-align: right;\">     0.997575</td><td style=\"text-align: right;\">                0</td><td style=\"text-align: right;\">      0.00242474</td></tr>\n",
       "<tr><td>Iris-setosa</td><td style=\"text-align: right;\">     0.997575</td><td style=\"text-align: right;\">                0</td><td style=\"text-align: right;\">      0.00242474</td></tr>\n",
       "<tr><td>Iris-setosa</td><td style=\"text-align: right;\">     0.997575</td><td style=\"text-align: right;\">                0</td><td style=\"text-align: right;\">      0.00242474</td></tr>\n",
       "<tr><td>Iris-setosa</td><td style=\"text-align: right;\">     0.997575</td><td style=\"text-align: right;\">                0</td><td style=\"text-align: right;\">      0.00242474</td></tr>\n",
       "<tr><td>Iris-setosa</td><td style=\"text-align: right;\">     0.997575</td><td style=\"text-align: right;\">                0</td><td style=\"text-align: right;\">      0.00242474</td></tr>\n",
       "<tr><td>Iris-setosa</td><td style=\"text-align: right;\">     0.997474</td><td style=\"text-align: right;\">                0</td><td style=\"text-align: right;\">      0.00252551</td></tr>\n",
       "<tr><td>Iris-setosa</td><td style=\"text-align: right;\">     0.997575</td><td style=\"text-align: right;\">                0</td><td style=\"text-align: right;\">      0.00242474</td></tr>\n",
       "<tr><td>Iris-setosa</td><td style=\"text-align: right;\">     0.997575</td><td style=\"text-align: right;\">                0</td><td style=\"text-align: right;\">      0.00242474</td></tr>\n",
       "<tr><td>Iris-setosa</td><td style=\"text-align: right;\">     0.997575</td><td style=\"text-align: right;\">                0</td><td style=\"text-align: right;\">      0.00242474</td></tr>\n",
       "<tr><td>Iris-setosa</td><td style=\"text-align: right;\">     0.997575</td><td style=\"text-align: right;\">                0</td><td style=\"text-align: right;\">      0.00242474</td></tr>\n",
       "</tbody>\n",
       "</table>"
      ]
     },
     "metadata": {},
     "output_type": "display_data"
    },
    {
     "data": {
      "text/plain": []
     },
     "execution_count": 20,
     "metadata": {},
     "output_type": "execute_result"
    }
   ],
   "source": [
    "p"
   ]
  },
  {
   "cell_type": "code",
   "execution_count": 21,
   "metadata": {
    "scrolled": true
   },
   "outputs": [
    {
     "name": "stdout",
     "output_type": "stream",
     "text": [
      "\n",
      "ModelMetricsMultinomial: drf\n",
      "** Reported on test data. **\n",
      "\n",
      "MSE: 0.018397692132444212\n",
      "RMSE: 0.13563809248306397\n",
      "LogLoss: 0.06182380655459587\n",
      "Mean Per-Class Error: 0.08333333333333333\n",
      "Confusion Matrix: Row labels: Actual class; Column labels: Predicted class\n",
      "\n"
     ]
    },
    {
     "data": {
      "text/html": [
       "<div style=\"overflow:auto\"><table style=\"width:50%\"><tr><td><b>Iris-setosa</b></td>\n",
       "<td><b>Iris-versicolor</b></td>\n",
       "<td><b>Iris-virginica</b></td>\n",
       "<td><b>Error</b></td>\n",
       "<td><b>Rate</b></td></tr>\n",
       "<tr><td>10.0</td>\n",
       "<td>0.0</td>\n",
       "<td>0.0</td>\n",
       "<td>0.0</td>\n",
       "<td>0 / 10</td></tr>\n",
       "<tr><td>0.0</td>\n",
       "<td>12.0</td>\n",
       "<td>0.0</td>\n",
       "<td>0.0</td>\n",
       "<td>0 / 12</td></tr>\n",
       "<tr><td>0.0</td>\n",
       "<td>2.0</td>\n",
       "<td>6.0</td>\n",
       "<td>0.25</td>\n",
       "<td>2 / 8</td></tr>\n",
       "<tr><td>10.0</td>\n",
       "<td>14.0</td>\n",
       "<td>6.0</td>\n",
       "<td>0.0666667</td>\n",
       "<td>2 / 30</td></tr></table></div>"
      ],
      "text/plain": [
       "Iris-setosa    Iris-versicolor    Iris-virginica    Error      Rate\n",
       "-------------  -----------------  ----------------  ---------  ------\n",
       "10             0                  0                 0          0 / 10\n",
       "0              12                 0                 0          0 / 12\n",
       "0              2                  6                 0.25       2 / 8\n",
       "10             14                 6                 0.0666667  2 / 30"
      ]
     },
     "metadata": {},
     "output_type": "display_data"
    },
    {
     "name": "stdout",
     "output_type": "stream",
     "text": [
      "Top-3 Hit Ratios: \n"
     ]
    },
    {
     "data": {
      "text/html": [
       "<div style=\"overflow:auto\"><table style=\"width:50%\"><tr><td><b>k</b></td>\n",
       "<td><b>hit_ratio</b></td></tr>\n",
       "<tr><td>1</td>\n",
       "<td>0.9333333</td></tr>\n",
       "<tr><td>2</td>\n",
       "<td>1.0</td></tr>\n",
       "<tr><td>3</td>\n",
       "<td>1.0</td></tr></table></div>"
      ],
      "text/plain": [
       "k    hit_ratio\n",
       "---  -----------\n",
       "1    0.933333\n",
       "2    1\n",
       "3    1"
      ]
     },
     "metadata": {},
     "output_type": "display_data"
    },
    {
     "data": {
      "text/plain": []
     },
     "execution_count": 21,
     "metadata": {},
     "output_type": "execute_result"
    }
   ],
   "source": [
    "mRF.model_performance(test)"
   ]
  },
  {
   "cell_type": "markdown",
   "metadata": {},
   "source": [
    "model performance: 93 percent hit ratio data which is unseen .ie only 2 mistakes"
   ]
  },
  {
   "cell_type": "code",
   "execution_count": 23,
   "metadata": {},
   "outputs": [],
   "source": [
    "#help(h2o.estimators.random_forest)"
   ]
  },
  {
   "cell_type": "code",
   "execution_count": 49,
   "metadata": {},
   "outputs": [
    {
     "name": "stdout",
     "output_type": "stream",
     "text": [
      "H2O session _sid_9553 closed.\n"
     ]
    }
   ],
   "source": [
    "h2o.cluster().shutdown()"
   ]
  }
 ],
 "metadata": {
  "kernelspec": {
   "display_name": "Python 3",
   "language": "python",
   "name": "python3"
  },
  "language_info": {
   "codemirror_mode": {
    "name": "ipython",
    "version": 3
   },
   "file_extension": ".py",
   "mimetype": "text/x-python",
   "name": "python",
   "nbconvert_exporter": "python",
   "pygments_lexer": "ipython3",
   "version": "3.7.6"
  }
 },
 "nbformat": 4,
 "nbformat_minor": 2
}
